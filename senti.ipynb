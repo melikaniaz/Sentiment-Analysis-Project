{
 "cells": [
  {
   "cell_type": "code",
   "execution_count": null,
   "id": "582890ec",
   "metadata": {},
   "outputs": [],
   "source": [
    "import pandas as pd"
   ]
  },
  {
   "cell_type": "code",
   "execution_count": 4,
   "id": "9b8ac36d",
   "metadata": {},
   "outputs": [],
   "source": [
    "import pandas as pd\n",
    "\n",
    "# File: senti.ipynb\n",
    "df = pd.read_csv('sentiment_data.csv')\n"
   ]
  },
  {
   "cell_type": "code",
   "execution_count": 5,
   "id": "ba47923d",
   "metadata": {},
   "outputs": [
    {
     "data": {
      "text/html": [
       "<div>\n",
       "<style scoped>\n",
       "    .dataframe tbody tr th:only-of-type {\n",
       "        vertical-align: middle;\n",
       "    }\n",
       "\n",
       "    .dataframe tbody tr th {\n",
       "        vertical-align: top;\n",
       "    }\n",
       "\n",
       "    .dataframe thead th {\n",
       "        text-align: right;\n",
       "    }\n",
       "</style>\n",
       "<table border=\"1\" class=\"dataframe\">\n",
       "  <thead>\n",
       "    <tr style=\"text-align: right;\">\n",
       "      <th></th>\n",
       "      <th>Unnamed: 0</th>\n",
       "      <th>Comment</th>\n",
       "      <th>Sentiment</th>\n",
       "    </tr>\n",
       "  </thead>\n",
       "  <tbody>\n",
       "    <tr>\n",
       "      <th>0</th>\n",
       "      <td>0</td>\n",
       "      <td>lets forget apple pay required brand new iphon...</td>\n",
       "      <td>1</td>\n",
       "    </tr>\n",
       "    <tr>\n",
       "      <th>1</th>\n",
       "      <td>1</td>\n",
       "      <td>nz retailers don’t even contactless credit car...</td>\n",
       "      <td>0</td>\n",
       "    </tr>\n",
       "    <tr>\n",
       "      <th>2</th>\n",
       "      <td>2</td>\n",
       "      <td>forever acknowledge channel help lessons ideas...</td>\n",
       "      <td>2</td>\n",
       "    </tr>\n",
       "    <tr>\n",
       "      <th>3</th>\n",
       "      <td>3</td>\n",
       "      <td>whenever go place doesn’t take apple pay doesn...</td>\n",
       "      <td>0</td>\n",
       "    </tr>\n",
       "    <tr>\n",
       "      <th>4</th>\n",
       "      <td>4</td>\n",
       "      <td>apple pay convenient secure easy use used kore...</td>\n",
       "      <td>2</td>\n",
       "    </tr>\n",
       "  </tbody>\n",
       "</table>\n",
       "</div>"
      ],
      "text/plain": [
       "   Unnamed: 0                                            Comment  Sentiment\n",
       "0           0  lets forget apple pay required brand new iphon...          1\n",
       "1           1  nz retailers don’t even contactless credit car...          0\n",
       "2           2  forever acknowledge channel help lessons ideas...          2\n",
       "3           3  whenever go place doesn’t take apple pay doesn...          0\n",
       "4           4  apple pay convenient secure easy use used kore...          2"
      ]
     },
     "execution_count": 5,
     "metadata": {},
     "output_type": "execute_result"
    }
   ],
   "source": [
    "df.head()"
   ]
  },
  {
   "cell_type": "code",
   "execution_count": 6,
   "id": "620f251b",
   "metadata": {},
   "outputs": [
    {
     "data": {
      "text/plain": [
       "<bound method NDFrame.tail of         Unnamed: 0                                            Comment  \\\n",
       "0                0  lets forget apple pay required brand new iphon...   \n",
       "1                1  nz retailers don’t even contactless credit car...   \n",
       "2                2  forever acknowledge channel help lessons ideas...   \n",
       "3                3  whenever go place doesn’t take apple pay doesn...   \n",
       "4                4  apple pay convenient secure easy use used kore...   \n",
       "...            ...                                                ...   \n",
       "241140      241921  crores paid neerav modi recovered congress lea...   \n",
       "241141      241922  dear rss terrorist payal gawar modi killing pl...   \n",
       "241142      241923                       cover interaction forum left   \n",
       "241143      241924  big project came india modi dream project happ...   \n",
       "241144      241925  ever listen like gurukul discipline maintained...   \n",
       "\n",
       "        Sentiment  \n",
       "0               1  \n",
       "1               0  \n",
       "2               2  \n",
       "3               0  \n",
       "4               2  \n",
       "...           ...  \n",
       "241140          0  \n",
       "241141          0  \n",
       "241142          1  \n",
       "241143          1  \n",
       "241144          2  \n",
       "\n",
       "[241145 rows x 3 columns]>"
      ]
     },
     "execution_count": 6,
     "metadata": {},
     "output_type": "execute_result"
    }
   ],
   "source": [
    "df.tail"
   ]
  },
  {
   "cell_type": "code",
   "execution_count": 7,
   "id": "25fe11bd",
   "metadata": {},
   "outputs": [
    {
     "name": "stdout",
     "output_type": "stream",
     "text": [
      "<class 'pandas.core.frame.DataFrame'>\n",
      "RangeIndex: 241145 entries, 0 to 241144\n",
      "Data columns (total 3 columns):\n",
      " #   Column      Non-Null Count   Dtype \n",
      "---  ------      --------------   ----- \n",
      " 0   Unnamed: 0  241145 non-null  int64 \n",
      " 1   Comment     240928 non-null  object\n",
      " 2   Sentiment   241145 non-null  int64 \n",
      "dtypes: int64(2), object(1)\n",
      "memory usage: 5.5+ MB\n"
     ]
    }
   ],
   "source": [
    "df.info()"
   ]
  },
  {
   "cell_type": "code",
   "execution_count": 8,
   "id": "4982e255",
   "metadata": {},
   "outputs": [
    {
     "data": {
      "text/html": [
       "<div>\n",
       "<style scoped>\n",
       "    .dataframe tbody tr th:only-of-type {\n",
       "        vertical-align: middle;\n",
       "    }\n",
       "\n",
       "    .dataframe tbody tr th {\n",
       "        vertical-align: top;\n",
       "    }\n",
       "\n",
       "    .dataframe thead th {\n",
       "        text-align: right;\n",
       "    }\n",
       "</style>\n",
       "<table border=\"1\" class=\"dataframe\">\n",
       "  <thead>\n",
       "    <tr style=\"text-align: right;\">\n",
       "      <th></th>\n",
       "      <th>Unnamed: 0</th>\n",
       "      <th>Sentiment</th>\n",
       "    </tr>\n",
       "  </thead>\n",
       "  <tbody>\n",
       "    <tr>\n",
       "      <th>count</th>\n",
       "      <td>241145.000000</td>\n",
       "      <td>241145.000000</td>\n",
       "    </tr>\n",
       "    <tr>\n",
       "      <th>mean</th>\n",
       "      <td>121289.252479</td>\n",
       "      <td>1.198822</td>\n",
       "    </tr>\n",
       "    <tr>\n",
       "      <th>std</th>\n",
       "      <td>69709.762092</td>\n",
       "      <td>0.785110</td>\n",
       "    </tr>\n",
       "    <tr>\n",
       "      <th>min</th>\n",
       "      <td>0.000000</td>\n",
       "      <td>0.000000</td>\n",
       "    </tr>\n",
       "    <tr>\n",
       "      <th>25%</th>\n",
       "      <td>61063.000000</td>\n",
       "      <td>1.000000</td>\n",
       "    </tr>\n",
       "    <tr>\n",
       "      <th>50%</th>\n",
       "      <td>121350.000000</td>\n",
       "      <td>1.000000</td>\n",
       "    </tr>\n",
       "    <tr>\n",
       "      <th>75%</th>\n",
       "      <td>181636.000000</td>\n",
       "      <td>2.000000</td>\n",
       "    </tr>\n",
       "    <tr>\n",
       "      <th>max</th>\n",
       "      <td>241925.000000</td>\n",
       "      <td>2.000000</td>\n",
       "    </tr>\n",
       "  </tbody>\n",
       "</table>\n",
       "</div>"
      ],
      "text/plain": [
       "          Unnamed: 0      Sentiment\n",
       "count  241145.000000  241145.000000\n",
       "mean   121289.252479       1.198822\n",
       "std     69709.762092       0.785110\n",
       "min         0.000000       0.000000\n",
       "25%     61063.000000       1.000000\n",
       "50%    121350.000000       1.000000\n",
       "75%    181636.000000       2.000000\n",
       "max    241925.000000       2.000000"
      ]
     },
     "execution_count": 8,
     "metadata": {},
     "output_type": "execute_result"
    }
   ],
   "source": [
    "df.describe()"
   ]
  },
  {
   "cell_type": "code",
   "execution_count": 11,
   "id": "0af796ef",
   "metadata": {},
   "outputs": [],
   "source": [
    "import re\n",
    "\n",
    "df.dropna(subset=['Comment', 'Sentiment'], inplace=True)\n",
    "def clean_text(text):\n",
    "    \n",
    "    text = re.sub(r'http\\S+|www\\S+|https\\S+', '', text, flags=re.MULTILINE)\n",
    "\n",
    "    text = re.sub(r'\\d+', '', text)\n",
    "  \n",
    "    text = re.sub(r'[^\\w\\s]', '', text)\n",
    "    \n",
    "    text = text.strip()\n",
    "    return text.lower()\n",
    "\n",
    "df['Comment'] = df['Comment'].apply(clean_text)"
   ]
  },
  {
   "cell_type": "code",
   "execution_count": 13,
   "id": "b3fe376f",
   "metadata": {},
   "outputs": [
    {
     "name": "stdout",
     "output_type": "stream",
     "text": [
      "Accuracy: 0.6691777694766115\n",
      "\n",
      "Classification Report:\n",
      "               precision    recall  f1-score   support\n",
      "\n",
      "           0       0.80      0.44      0.57     11023\n",
      "           1       0.67      0.60      0.63     16631\n",
      "           2       0.64      0.85      0.73     20532\n",
      "\n",
      "    accuracy                           0.67     48186\n",
      "   macro avg       0.70      0.63      0.64     48186\n",
      "weighted avg       0.69      0.67      0.66     48186\n",
      "\n"
     ]
    }
   ],
   "source": [
    "# Required imports\n",
    "from sklearn.model_selection import train_test_split\n",
    "from sklearn.feature_extraction.text import TfidfVectorizer\n",
    "from sklearn.naive_bayes import MultinomialNB\n",
    "from sklearn.metrics import accuracy_score, classification_report\n",
    "\n",
    "# جدا کردن ویژگی و برچسب\n",
    "X = df['Comment']\n",
    "y = df['Sentiment']\n",
    "\n",
    "# تقسیم داده به آموزش و تست (۸۰% آموزش، ۲۰% تست)\n",
    "X_train, X_test, y_train, y_test = train_test_split(X, y, test_size=0.2, random_state=42)\n",
    "\n",
    "# تبدیل متن به ویژگی TF-IDF\n",
    "vectorizer = TfidfVectorizer(max_features=5000)\n",
    "X_train_tfidf = vectorizer.fit_transform(X_train)\n",
    "X_test_tfidf = vectorizer.transform(X_test)\n",
    "\n",
    "# ساخت مدل Naive Bayes و آموزش\n",
    "model = MultinomialNB()\n",
    "model.fit(X_train_tfidf, y_train)\n",
    "\n",
    "# پیش‌بینی روی داده تست\n",
    "y_pred = model.predict(X_test_tfidf)\n",
    "\n",
    "# ارزیابی مدل\n",
    "print(\"Accuracy:\", accuracy_score(y_test, y_pred))\n",
    "print(\"\\nClassification Report:\\n\", classification_report(y_test, y_pred))"
   ]
  },
  {
   "cell_type": "code",
   "execution_count": 14,
   "id": "e5e08320",
   "metadata": {},
   "outputs": [
    {
     "name": "stdout",
     "output_type": "stream",
     "text": [
      "Sentiment prediction: 2\n"
     ]
    }
   ],
   "source": [
    "# جمله‌ای که می‌خوای تست کنی\n",
    "new_text = \"I really enjoyed using this product\"\n",
    "\n",
    "# پاکسازی ساده (اگه لازم داری)\n",
    "def simple_clean(text):\n",
    "    text = text.lower()\n",
    "    text = ''.join(c for c in text if c.isalpha() or c.isspace())\n",
    "    return text.strip()\n",
    "\n",
    "cleaned_text = simple_clean(new_text)\n",
    "\n",
    "# تبدیل جمله به ویژگی‌های عددی (مثل TF-IDF)\n",
    "text_features = vectorizer.transform([cleaned_text])\n",
    "\n",
    "# پیش‌بینی کلاس احساس\n",
    "predicted_label = model.predict(text_features)[0]\n",
    "\n",
    "# نمایش نتیجه\n",
    "print(\"Sentiment prediction:\", predicted_label)\n"
   ]
  }
 ],
 "metadata": {
  "kernelspec": {
   "display_name": "Python 3",
   "language": "python",
   "name": "python3"
  },
  "language_info": {
   "codemirror_mode": {
    "name": "ipython",
    "version": 3
   },
   "file_extension": ".py",
   "mimetype": "text/x-python",
   "name": "python",
   "nbconvert_exporter": "python",
   "pygments_lexer": "ipython3",
   "version": "3.12.3"
  }
 },
 "nbformat": 4,
 "nbformat_minor": 5
}
